{
  "nbformat": 4,
  "nbformat_minor": 0,
  "metadata": {
    "colab": {
      "name": "SDES.ipynb",
      "provenance": [],
      "authorship_tag": "ABX9TyMby5nZXmBp62D0l5qRxUp1",
      "include_colab_link": true
    },
    "kernelspec": {
      "name": "python3",
      "display_name": "Python 3"
    },
    "language_info": {
      "name": "python"
    }
  },
  "cells": [
    {
      "cell_type": "markdown",
      "metadata": {
        "id": "view-in-github",
        "colab_type": "text"
      },
      "source": [
        "<a href=\"https://colab.research.google.com/github/Agniswar123/Simplified-DES/blob/main/Simple%20DES.ipynb\" target=\"_parent\"><img src=\"https://colab.research.google.com/assets/colab-badge.svg\" alt=\"Open In Colab\"/></a>"
      ]
    },
    {
      "cell_type": "code",
      "metadata": {
        "id": "E-0Fk372w38i"
      },
      "source": [
        "#S-DES Encryption\n",
        "#Ref: http://mercury.webster.edu/aleshunas/COSC%205130/G-SDES.pdf\n",
        "#     https://www.youtube.com/watch?v=ewHnHWCsFNM\n",
        "#Example:\n",
        "\n",
        "#PT:[1,0,0,1,0,1,1,1] \n",
        "#CT:[0, 0, 1, 1, 1, 0, 0, 0]\n",
        "\n",
        "#For encryption or Decryption, code upro Key generated is required"
      ],
      "execution_count": 158,
      "outputs": []
    },
    {
      "cell_type": "code",
      "metadata": {
        "id": "rQCNO22fw8H6"
      },
      "source": [
        "plain_text=[0,1,1,1,0,0,1,0]    \n",
        "key=[1,0,1,0,0,0,0,0,1,0]  \n",
        "cipher_text=[0,1,1,1,0,1,1,1]      "
      ],
      "execution_count": 156,
      "outputs": []
    },
    {
      "cell_type": "code",
      "metadata": {
        "id": "QJCJJMQCLIh8"
      },
      "source": [
        "#---------------------------------------------Key Generation----------------------------------#"
      ],
      "execution_count": 134,
      "outputs": []
    },
    {
      "cell_type": "code",
      "metadata": {
        "id": "8p9UZy1qxsP6"
      },
      "source": [
        "#length check\n",
        "if len(key) > 10 or len(plain_text) > 8:\n",
        "  exit(0)"
      ],
      "execution_count": 135,
      "outputs": []
    },
    {
      "cell_type": "code",
      "metadata": {
        "colab": {
          "base_uri": "https://localhost:8080/"
        },
        "id": "hl5uzmTkxId7",
        "outputId": "ca541338-360f-4f6a-b615-17b813ca9c69"
      },
      "source": [
        "p10_table=[3,5,2,7,4,10,1,9,8,6]\n",
        "kout=[]\n",
        "for i in range(len(p10_table)):\n",
        "  kout.append(int(key[p10_table[i]-1]))\n",
        "print(kout)"
      ],
      "execution_count": 136,
      "outputs": [
        {
          "output_type": "stream",
          "text": [
            "[1, 0, 0, 0, 0, 0, 1, 1, 0, 0]\n"
          ],
          "name": "stdout"
        }
      ]
    },
    {
      "cell_type": "code",
      "metadata": {
        "id": "EVgnkV3lyouy"
      },
      "source": [
        "k1left=kout[:5]\n",
        "k1right=kout[5:]\n",
        "k2left=kout[:5]\n",
        "k2right=kout[5:]"
      ],
      "execution_count": 137,
      "outputs": []
    },
    {
      "cell_type": "code",
      "metadata": {
        "colab": {
          "base_uri": "https://localhost:8080/"
        },
        "id": "f_NGtGxEh8-b",
        "outputId": "41a775c3-b683-42b9-b9e7-9e0f0a37cf8d"
      },
      "source": [
        "print(k1left,k1right,k2left,k2right)"
      ],
      "execution_count": 138,
      "outputs": [
        {
          "output_type": "stream",
          "text": [
            "[1, 0, 0, 0, 0] [0, 1, 1, 0, 0] [1, 0, 0, 0, 0] [0, 1, 1, 0, 0]\n"
          ],
          "name": "stdout"
        }
      ]
    },
    {
      "cell_type": "code",
      "metadata": {
        "colab": {
          "base_uri": "https://localhost:8080/"
        },
        "id": "RGP0g5t4y3tv",
        "outputId": "8ba69a29-6d75-4c81-8826-72d4b3b1e29b"
      },
      "source": [
        "#one left shift to get k1\n",
        "k1left.append(k1left.pop(0))\n",
        "k1right.append(k1right.pop(0))\n",
        "\n",
        "print(k1left,k1right)\n",
        "\n",
        "#three total left shift to get k2\n",
        "for i in range(3):\n",
        "  k2left.append(k2left.pop(0))\n",
        "  k2right.append(k2right.pop(0))\n",
        "  print(k2left, k2right)"
      ],
      "execution_count": 139,
      "outputs": [
        {
          "output_type": "stream",
          "text": [
            "[0, 0, 0, 0, 1] [1, 1, 0, 0, 0]\n",
            "[0, 0, 0, 0, 1] [1, 1, 0, 0, 0]\n",
            "[0, 0, 0, 1, 0] [1, 0, 0, 0, 1]\n",
            "[0, 0, 1, 0, 0] [0, 0, 0, 1, 1]\n"
          ],
          "name": "stdout"
        }
      ]
    },
    {
      "cell_type": "code",
      "metadata": {
        "id": "WvrPdxpwy5SH"
      },
      "source": [
        "k5=k1left+k1right\n",
        "k6=k2left+k2right"
      ],
      "execution_count": 140,
      "outputs": []
    },
    {
      "cell_type": "code",
      "metadata": {
        "id": "5EBwPsBD0Kfs"
      },
      "source": [
        "p8_table=[6,3,7,4,8,5,10,9]\n",
        "K1=[]\n",
        "K2=[]\n",
        "for i in range(len(p8_table)):\n",
        "  K1.append(k5[p8_table[i]-1])\n",
        "  K2.append(k6[p8_table[i]-1])"
      ],
      "execution_count": 141,
      "outputs": []
    },
    {
      "cell_type": "code",
      "metadata": {
        "colab": {
          "base_uri": "https://localhost:8080/"
        },
        "id": "2ube-Bv6zf-T",
        "outputId": "6de2c9f3-2012-40c3-e0cc-180d0ba170ba"
      },
      "source": [
        "print(K1,K2)"
      ],
      "execution_count": 142,
      "outputs": [
        {
          "output_type": "stream",
          "text": [
            "[1, 0, 1, 0, 0, 1, 0, 0] [0, 1, 0, 0, 0, 0, 1, 1]\n"
          ],
          "name": "stdout"
        }
      ]
    },
    {
      "cell_type": "code",
      "metadata": {
        "id": "SMXLDsJCLB6Q"
      },
      "source": [
        "#--------------------------------------Key Generated------------------------------------------#"
      ],
      "execution_count": 143,
      "outputs": []
    },
    {
      "cell_type": "code",
      "metadata": {
        "id": "oHRs4L-ZLf-J"
      },
      "source": [
        "#---------------------------------------Encryption--------------------------------------------#"
      ],
      "execution_count": 144,
      "outputs": []
    },
    {
      "cell_type": "code",
      "metadata": {
        "id": "7eU-CSZr683p"
      },
      "source": [
        "def Position(a=0, b=0):\n",
        "  return a*2+b\n",
        "\n",
        "def Binary(a=0):\n",
        "  if a==0:\n",
        "    return '0 0 '\n",
        "  elif a==1:\n",
        "    return '0 1 '\n",
        "  elif a==2:\n",
        "    return '1 0 '\n",
        "  elif a==3:\n",
        "    return '1 1 '"
      ],
      "execution_count": 145,
      "outputs": []
    },
    {
      "cell_type": "code",
      "metadata": {
        "id": "ScNuFA5eH7Ep"
      },
      "source": [
        "def InitialPermutation(plain_text):       \n",
        "  ip8_table=[2,6,3,1,4,8,5,7]\n",
        "  plain_out1=[]\n",
        "  for i in range(len(ip8_table)):\n",
        "    plain_out1.append(int(plain_text[ip8_table[i]-1]))\n",
        "  \n",
        "  return plain_out1"
      ],
      "execution_count": 146,
      "outputs": []
    },
    {
      "cell_type": "code",
      "metadata": {
        "id": "4s3eMXrEJJFP"
      },
      "source": [
        "def ExpandedPermutation(text):      \n",
        "  ep_table=[4,1,2,3,2,3,4,1]\n",
        "  expanded=[]\n",
        "  for i in range(len(ep_table)):\n",
        "    expanded.append(text[ep_table[i]-1])\n",
        "  return expanded"
      ],
      "execution_count": 147,
      "outputs": []
    },
    {
      "cell_type": "code",
      "metadata": {
        "id": "jQOOP_B7BCf5"
      },
      "source": [
        "def Permutation4(text):\n",
        "  p4_table=[2,4,3,1]\n",
        "  perm_out=[]\n",
        "  for i in range(4):\n",
        "    perm_out.append(text[p4_table[i]-1])\n",
        "  return perm_out"
      ],
      "execution_count": 148,
      "outputs": []
    },
    {
      "cell_type": "code",
      "metadata": {
        "id": "2QFOxmFYSSqS"
      },
      "source": [
        "def IPInverse(text):\n",
        "  ipinv=[4,1,3,5,7,2,8,6]\n",
        "  ip=[]\n",
        "  for i in range(8):\n",
        "    ip.append(text[ipinv[i]-1])\n",
        "  return ip"
      ],
      "execution_count": 149,
      "outputs": []
    },
    {
      "cell_type": "code",
      "metadata": {
        "id": "H8fKVq0Q5VhE"
      },
      "source": [
        "#XOR of two arrays\n",
        "def Xor(ar1,ar2):          \n",
        "  xor_out=[]\n",
        "  for i in range(len(ar1)):\n",
        "    xor_out.append(ar1[i] ^ ar2[i])\n",
        "  return xor_out"
      ],
      "execution_count": 150,
      "outputs": []
    },
    {
      "cell_type": "code",
      "metadata": {
        "id": "oOtgSJuQ8Q4X"
      },
      "source": [
        "#xor_left for S0 and xor_right for S1\n",
        "\n",
        "def SBox(S0,S1,xor_left,xor_right):\n",
        "  s0_row = Position(xor_left[0], xor_left[-1])\n",
        "  s0_col = Position(xor_left[1], xor_left[-2])\n",
        "\n",
        "  s1_row = Position(xor_right[0], xor_right[-1])\n",
        "  s1_col = Position(xor_right[1], xor_right[-2])\n",
        "\n",
        "  out=str(Binary(S0[s0_row][s0_col])+Binary(S1[s1_row][s1_col])).split(\" \")\n",
        "  temp=out.pop()\n",
        "  out=[int(x) for x in out]\n",
        "  return out"
      ],
      "execution_count": 151,
      "outputs": []
    },
    {
      "cell_type": "code",
      "metadata": {
        "id": "jQ295ZdG8GeP"
      },
      "source": [
        "S0 = [\n",
        "      [1,0,3,2],\n",
        "      [3,2,1,0],\n",
        "      [0,2,1,3],\n",
        "      [3,1,3,2]\n",
        "]\n",
        "\n",
        "S1 = [\n",
        "      [0,1,2,3],\n",
        "      [2,0,1,3],\n",
        "      [3,0,1,0],\n",
        "      [2,1,0,3]\n",
        "]"
      ],
      "execution_count": 152,
      "outputs": []
    },
    {
      "cell_type": "code",
      "metadata": {
        "id": "jF79YgUdoYn4"
      },
      "source": [
        "def FunctionK(text,key):\n",
        "  #splitting in two halves\n",
        "  plain_out1_left = text[:4]\n",
        "  plain_out1_right = text[4:]\n",
        "\n",
        "  #Expansion\n",
        "  right_expanded=ExpandedPermutation(plain_out1_right)\n",
        "  #print(right_expanded)\n",
        "\n",
        "  #Xor with Key\n",
        "  xor_K1 = Xor(right_expanded,key)\n",
        "  #print(xor_K1)\n",
        "\n",
        "  #Splitting\n",
        "  xor_K1_left=xor_K1[:4]\n",
        "  xor_K1_right=xor_K1[4:]\n",
        "\n",
        "  #SBoxing\n",
        "  perm = SBox(S0, S1, xor_K1_left, xor_K1_right)\n",
        "\n",
        "  #Permutation\n",
        "  perm_out = Permutation4(perm)\n",
        "  perm_xor=Xor(perm_out, plain_out1_left)\n",
        "  #print(perm_out,perm_xor)\n",
        "  temp = perm_xor + plain_out1_right\n",
        "  return temp"
      ],
      "execution_count": 153,
      "outputs": []
    },
    {
      "cell_type": "code",
      "metadata": {
        "colab": {
          "base_uri": "https://localhost:8080/"
        },
        "id": "57eBl7rHzwug",
        "outputId": "4f0637e0-d73e-41a6-9b85-1d1e79ff8442"
      },
      "source": [
        "#Initial Permutation\n",
        "plain_out1=InitialPermutation(plain_text)\n",
        "\n",
        "#Round 1 of fk\n",
        "round1= FunctionK(plain_out1, K1)\n",
        "\n",
        "#Switching\n",
        "round2_input=round1[4:]+round1[:4]\n",
        "\n",
        "#Round 2 of fk\n",
        "round2= FunctionK(round2_input, K2)\n",
        "\n",
        "#IPInverse\n",
        "cipher_text= IPInverse(round2)\n",
        "\n",
        "print(cipher_text)"
      ],
      "execution_count": 154,
      "outputs": [
        {
          "output_type": "stream",
          "text": [
            "[0, 1, 1, 1, 0, 1, 1, 1]\n"
          ],
          "name": "stdout"
        }
      ]
    },
    {
      "cell_type": "code",
      "metadata": {
        "id": "B0vyC3pTwMun"
      },
      "source": [
        "#---------------------------------Decryption--------------------------"
      ],
      "execution_count": 155,
      "outputs": []
    },
    {
      "cell_type": "code",
      "metadata": {
        "colab": {
          "base_uri": "https://localhost:8080/"
        },
        "id": "DOHcKwdXwR_d",
        "outputId": "e555d896-bbc7-41ec-dbef-8a98dc557996"
      },
      "source": [
        "#Initial Permutation\n",
        "decrypt=InitialPermutation(cipher_text)\n",
        "\n",
        "#Round 1 of fk\n",
        "reverse1= FunctionK(decrypt, K2)\n",
        "\n",
        "#Switching\n",
        "reverse2_input= reverse1[4:]+reverse1[:4]\n",
        "\n",
        "#Round 2 of fk\n",
        "reverse2= FunctionK(reverse2_input, K1)\n",
        "\n",
        "#IPInverse\n",
        "decrypted_msg= IPInverse(reverse2)\n",
        "\n",
        "print(decrypted_msg)"
      ],
      "execution_count": 157,
      "outputs": [
        {
          "output_type": "stream",
          "text": [
            "[0, 1, 1, 1, 0, 0, 1, 0]\n"
          ],
          "name": "stdout"
        }
      ]
    },
    {
      "cell_type": "code",
      "metadata": {
        "id": "5Iw2tzrZyeIb"
      },
      "source": [
        ""
      ],
      "execution_count": null,
      "outputs": []
    }
  ]
}